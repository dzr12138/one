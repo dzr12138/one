{
 "cells": [
  {
   "cell_type": "code",
   "execution_count": 1,
   "metadata": {},
   "outputs": [],
   "source": [
    "import os\n",
    "import numpy as np\n",
    "import matplotlib.pyplot as plt\n",
    "import matplotlib.image as mpimg\n",
    "import h5py "
   ]
  },
  {
   "cell_type": "code",
   "execution_count": 2,
   "metadata": {},
   "outputs": [
    {
     "name": "stdout",
     "output_type": "stream",
     "text": [
      "(768, 64, 64, 1)\n"
     ]
    }
   ],
   "source": [
    "fh5 = h5py.File('D:/zm/nodule_Texture.h5','r')\n",
    "image_jj_gray = fh5['image_jj_gray']\n",
    "image_jj_gray = np.array(image_jj_gray)\n",
    "image_jj_gray = image_jj_gray.reshape(768, 64, 64, 1)\n",
    "print(image_jj_gray.shape)\n",
    "Texture = fh5['Texture']\n",
    "Texture = np.array(Texture)"
   ]
  },
  {
   "cell_type": "code",
   "execution_count": 20,
   "metadata": {},
   "outputs": [
    {
     "data": {
      "text/plain": [
       "(768, 3)"
      ]
     },
     "execution_count": 20,
     "metadata": {},
     "output_type": "execute_result"
    }
   ],
   "source": [
    "from keras.utils import to_categorical\n",
    "train_labels=to_categorical(Texture)\n",
    "train_labels.shape"
   ]
  },
  {
   "cell_type": "code",
   "execution_count": 15,
   "metadata": {},
   "outputs": [],
   "source": [
    "from sklearn.model_selection import train_test_split\n",
    "X_train,X_test,y_train,y_test=train_test_split(image_jj_gray,train_labels,test_size=0.2,random_state=1)"
   ]
  },
  {
   "cell_type": "code",
   "execution_count": 6,
   "metadata": {},
   "outputs": [],
   "source": [
    "from keras import models\n",
    "from keras import layers\n",
    "from keras.models import Sequential,Input\n",
    "from keras import optimizers\n",
    "import keras\n",
    "from keras.layers import Conv2D,MaxPooling2D,Dropout,BatchNormalization,Flatten,Dense,Lambda,Multiply,AveragePooling2D,Activation\n",
    "from keras.models import Model"
   ]
  },
  {
   "cell_type": "code",
   "execution_count": 7,
   "metadata": {},
   "outputs": [],
   "source": [
    "def Conv2d_BN(x, nb_filter,kernel_size, padding='valid',strides=(1,1),data_format='channels_last',dilation_rate=(1,1),\n",
    "              activation='relu',name=None):\n",
    "    if name is not None:\n",
    "        bn_name = name + '_bn'\n",
    "        conv_name = name + '_conv'\n",
    "    else:\n",
    "        bn_name = None\n",
    "        conv_name = None\n",
    "# inception 模块和 xception模块 bn层位置不一样\n",
    "\n",
    "    #x = BatchNormalization(name=bn_name)(x)\n",
    "    x = Conv2D(nb_filter,kernel_size,padding=padding,strides=strides,data_format='channels_last',activation='relu',\n",
    "               dilation_rate=dilation_rate,name=conv_name)(x)\n",
    "    x = BatchNormalization(name=bn_name)(x)\n",
    "    \n",
    "    return x"
   ]
  },
  {
   "cell_type": "code",
   "execution_count": 8,
   "metadata": {},
   "outputs": [],
   "source": [
    "def TestNet(input_shape=None):\n",
    "    inpt = Input(shape=input_shape)\n",
    "    #padding = 'same'，填充为(步长-1）/2,还可以用ZeroPadding3D((3,3,3))\n",
    "    x = BatchNormalization()(inpt)\n",
    "    #x = Conv2d_BN(x,32,(1,1),strides=(1,1),padding='same',data_format='channels_last')\n",
    "    x = Conv2d_BN(inpt,64,(3,3),strides=(1,1),padding='same',data_format='channels_last')\n",
    "    x = MaxPooling2D(pool_size=(3,3),strides=(3,3),padding='same',data_format='channels_last')(x)\n",
    "    x = Conv2d_BN(x,64,(3,3),strides=(1,1),padding='same',data_format='channels_last')\n",
    "    x = MaxPooling2D(pool_size=(3,3),strides=(3,3),padding='same',data_format='channels_last')(x)\n",
    "    x = Conv2d_BN(x,128,(3,3),strides=(1,1),padding='same',data_format='channels_last')\n",
    "    x = MaxPooling2D(pool_size=(3,3),strides=(3,3),padding='same',data_format='channels_last')(x)\n",
    "    x = Conv2d_BN(x,128,(3,3),strides=(1,1),padding='same',data_format='channels_last')\n",
    "    x = AveragePooling2D(pool_size=(3,3),strides=(3,3),padding='same',data_format='channels_last')(x)\n",
    "    \n",
    "    #x = Conv2d_BN(x,64,(3,1), padding='valid',strides=(1,1),data_format='channels_last')\n",
    "    #x = AveragePooling2D(pool_size=(9,1),strides=(9,1),padding='same',data_format='channels_last')(x)\n",
    "    #x = Conv2d_BN(x,256,(1,3), padding='same',strides=(1,1),data_format='channels_last')\n",
    "    #x = AveragePooling2D(pool_size=(1,2),strides=(1,2),padding='same',data_format='channels_last')(x)\n",
    "    \n",
    "    x = Flatten(data_format='channels_last')(x)\n",
    "    x = Dense(128,activation='relu')(x)\n",
    "    x = Dropout(0.4)(x)\n",
    "    x = Dense(3,activation='softmax')(x)\n",
    "    model = Model(inpt,x,name='inception')\n",
    "    return model"
   ]
  },
  {
   "cell_type": "code",
   "execution_count": 9,
   "metadata": {},
   "outputs": [
    {
     "name": "stdout",
     "output_type": "stream",
     "text": [
      "WARNING:tensorflow:From C:\\Users\\HP\\anaconda3\\envs\\tensorflow\\lib\\site-packages\\keras\\backend\\tensorflow_backend.py:4070: The name tf.nn.max_pool is deprecated. Please use tf.nn.max_pool2d instead.\n",
      "\n",
      "WARNING:tensorflow:From C:\\Users\\HP\\anaconda3\\envs\\tensorflow\\lib\\site-packages\\keras\\backend\\tensorflow_backend.py:4074: The name tf.nn.avg_pool is deprecated. Please use tf.nn.avg_pool2d instead.\n",
      "\n",
      "Model: \"inception\"\n",
      "_________________________________________________________________\n",
      "Layer (type)                 Output Shape              Param #   \n",
      "=================================================================\n",
      "input_1 (InputLayer)         (None, 64, 64, 1)         0         \n",
      "_________________________________________________________________\n",
      "conv2d_1 (Conv2D)            (None, 64, 64, 64)        640       \n",
      "_________________________________________________________________\n",
      "batch_normalization_2 (Batch (None, 64, 64, 64)        256       \n",
      "_________________________________________________________________\n",
      "max_pooling2d_1 (MaxPooling2 (None, 22, 22, 64)        0         \n",
      "_________________________________________________________________\n",
      "conv2d_2 (Conv2D)            (None, 22, 22, 64)        36928     \n",
      "_________________________________________________________________\n",
      "batch_normalization_3 (Batch (None, 22, 22, 64)        256       \n",
      "_________________________________________________________________\n",
      "max_pooling2d_2 (MaxPooling2 (None, 8, 8, 64)          0         \n",
      "_________________________________________________________________\n",
      "conv2d_3 (Conv2D)            (None, 8, 8, 128)         73856     \n",
      "_________________________________________________________________\n",
      "batch_normalization_4 (Batch (None, 8, 8, 128)         512       \n",
      "_________________________________________________________________\n",
      "max_pooling2d_3 (MaxPooling2 (None, 3, 3, 128)         0         \n",
      "_________________________________________________________________\n",
      "conv2d_4 (Conv2D)            (None, 3, 3, 128)         147584    \n",
      "_________________________________________________________________\n",
      "batch_normalization_5 (Batch (None, 3, 3, 128)         512       \n",
      "_________________________________________________________________\n",
      "average_pooling2d_1 (Average (None, 1, 1, 128)         0         \n",
      "_________________________________________________________________\n",
      "flatten_1 (Flatten)          (None, 128)               0         \n",
      "_________________________________________________________________\n",
      "dense_1 (Dense)              (None, 128)               16512     \n",
      "_________________________________________________________________\n",
      "dropout_1 (Dropout)          (None, 128)               0         \n",
      "_________________________________________________________________\n",
      "dense_2 (Dense)              (None, 3)                 387       \n",
      "=================================================================\n",
      "Total params: 277,443\n",
      "Trainable params: 276,675\n",
      "Non-trainable params: 768\n",
      "_________________________________________________________________\n"
     ]
    }
   ],
   "source": [
    "model = TestNet(input_shape=(64,64,1))\n",
    "model.summary()"
   ]
  },
  {
   "cell_type": "code",
   "execution_count": 10,
   "metadata": {},
   "outputs": [
    {
     "data": {
      "image/png": "[encoded data removed]",
      "text/plain": [
       "<IPython.core.display.Image object>"
      ]
     },
     "execution_count": 10,
     "metadata": {},
     "output_type": "execute_result"
    }
   ],
   "source": [
    "from tensorflow.keras.utils import plot_model     ##模型结构图\n",
    "plot_model(model,'D:/机器学习实战/model_kaoshi1.png')"
   ]
  },
  {
   "cell_type": "code",
   "execution_count": 11,
   "metadata": {},
   "outputs": [],
   "source": [
    "model.compile(loss='categorical_crossentropy',\n",
    "              optimizer=optimizers.Adam(lr=1e-4),#\n",
    "              metrics=['accuracy']\n",
    "             )"
   ]
  },
  {
   "cell_type": "code",
   "execution_count": 12,
   "metadata": {},
   "outputs": [
    {
     "name": "stdout",
     "output_type": "stream",
     "text": [
      "WARNING:tensorflow:From C:\\Users\\HP\\anaconda3\\envs\\tensorflow\\lib\\site-packages\\keras\\backend\\tensorflow_backend.py:422: The name tf.global_variables is deprecated. Please use tf.compat.v1.global_variables instead.\n",
      "\n",
      "Train on 460 samples, validate on 154 samples\n",
      "Epoch 1/50\n",
      "460/460 [==============================] - 6s 14ms/step - loss: 1.0081 - accuracy: 0.4696 - val_loss: 0.4626 - val_accuracy: 0.8896\n",
      "Epoch 2/50\n",
      "460/460 [==============================] - 7s 15ms/step - loss: 0.7488 - accuracy: 0.7522 - val_loss: 0.4797 - val_accuracy: 0.8896\n",
      "Epoch 3/50\n",
      "460/460 [==============================] - 8s 17ms/step - loss: 0.6435 - accuracy: 0.8304 - val_loss: 0.5017 - val_accuracy: 0.8896\n",
      "Epoch 4/50\n",
      "460/460 [==============================] - 8s 17ms/step - loss: 0.5690 - accuracy: 0.8587 - val_loss: 0.5110 - val_accuracy: 0.8896\n",
      "Epoch 5/50\n",
      "460/460 [==============================] - 7s 15ms/step - loss: 0.5157 - accuracy: 0.8609 - val_loss: 0.5145 - val_accuracy: 0.8896\n",
      "Epoch 6/50\n",
      "460/460 [==============================] - 7s 15ms/step - loss: 0.4837 - accuracy: 0.8804 - val_loss: 0.5356 - val_accuracy: 0.8896\n",
      "Epoch 7/50\n",
      "460/460 [==============================] - 8s 16ms/step - loss: 0.4596 - accuracy: 0.8891 - val_loss: 0.5092 - val_accuracy: 0.8831\n",
      "Epoch 8/50\n",
      "460/460 [==============================] - 8s 17ms/step - loss: 0.4293 - accuracy: 0.8848 - val_loss: 0.4950 - val_accuracy: 0.8896\n",
      "Epoch 9/50\n",
      "460/460 [==============================] - 8s 17ms/step - loss: 0.3951 - accuracy: 0.8891 - val_loss: 0.4859 - val_accuracy: 0.8896\n",
      "Epoch 10/50\n",
      "460/460 [==============================] - 6s 14ms/step - loss: 0.3511 - accuracy: 0.9000 - val_loss: 0.4688 - val_accuracy: 0.8896\n",
      "Epoch 11/50\n",
      "460/460 [==============================] - 6s 14ms/step - loss: 0.3262 - accuracy: 0.8978 - val_loss: 0.4538 - val_accuracy: 0.8896\n",
      "Epoch 12/50\n",
      "460/460 [==============================] - 6s 14ms/step - loss: 0.3301 - accuracy: 0.9087 - val_loss: 0.4432 - val_accuracy: 0.8896\n",
      "Epoch 13/50\n",
      "460/460 [==============================] - 6s 14ms/step - loss: 0.3038 - accuracy: 0.9109 - val_loss: 0.4352 - val_accuracy: 0.8896\n",
      "Epoch 14/50\n",
      "460/460 [==============================] - 6s 14ms/step - loss: 0.2826 - accuracy: 0.9217 - val_loss: 0.4257 - val_accuracy: 0.8896\n",
      "Epoch 15/50\n",
      "460/460 [==============================] - 7s 15ms/step - loss: 0.2707 - accuracy: 0.9283 - val_loss: 0.4258 - val_accuracy: 0.8896\n",
      "Epoch 16/50\n",
      "460/460 [==============================] - 7s 15ms/step - loss: 0.2347 - accuracy: 0.9326 - val_loss: 0.4243 - val_accuracy: 0.8896\n",
      "Epoch 17/50\n",
      "460/460 [==============================] - 8s 16ms/step - loss: 0.2277 - accuracy: 0.9478 - val_loss: 0.4197 - val_accuracy: 0.8896\n",
      "Epoch 18/50\n",
      "460/460 [==============================] - 7s 14ms/step - loss: 0.1852 - accuracy: 0.9587 - val_loss: 0.4200 - val_accuracy: 0.8896\n",
      "Epoch 19/50\n",
      "460/460 [==============================] - 6s 14ms/step - loss: 0.1759 - accuracy: 0.9717 - val_loss: 0.4144 - val_accuracy: 0.8896\n",
      "Epoch 20/50\n",
      "460/460 [==============================] - 6s 14ms/step - loss: 0.1728 - accuracy: 0.9696 - val_loss: 0.4215 - val_accuracy: 0.8896\n",
      "Epoch 21/50\n",
      "460/460 [==============================] - 6s 14ms/step - loss: 0.1449 - accuracy: 0.9804 - val_loss: 0.4262 - val_accuracy: 0.8896\n",
      "Epoch 22/50\n",
      "460/460 [==============================] - 7s 15ms/step - loss: 0.1418 - accuracy: 0.9870 - val_loss: 0.4293 - val_accuracy: 0.8896\n",
      "Epoch 23/50\n",
      "460/460 [==============================] - 7s 15ms/step - loss: 0.1234 - accuracy: 0.9848 - val_loss: 0.4355 - val_accuracy: 0.8896\n",
      "Epoch 24/50\n",
      "460/460 [==============================] - 7s 15ms/step - loss: 0.1213 - accuracy: 0.9891 - val_loss: 0.4292 - val_accuracy: 0.8896\n",
      "Epoch 25/50\n",
      "460/460 [==============================] - 6s 14ms/step - loss: 0.1067 - accuracy: 0.9913 - val_loss: 0.4237 - val_accuracy: 0.8896\n",
      "Epoch 26/50\n",
      "460/460 [==============================] - 7s 15ms/step - loss: 0.0832 - accuracy: 0.9978 - val_loss: 0.4500 - val_accuracy: 0.8896\n",
      "Epoch 27/50\n",
      "460/460 [==============================] - 7s 15ms/step - loss: 0.0875 - accuracy: 0.9957 - val_loss: 0.4760 - val_accuracy: 0.8896\n",
      "Epoch 28/50\n",
      "460/460 [==============================] - 8s 17ms/step - loss: 0.0767 - accuracy: 1.0000 - val_loss: 0.5106 - val_accuracy: 0.8896\n",
      "Epoch 29/50\n",
      "460/460 [==============================] - 7s 16ms/step - loss: 0.0703 - accuracy: 0.9978 - val_loss: 0.4839 - val_accuracy: 0.8896\n",
      "Epoch 30/50\n",
      "460/460 [==============================] - 7s 15ms/step - loss: 0.0700 - accuracy: 0.9978 - val_loss: 0.4715 - val_accuracy: 0.8896\n",
      "Epoch 31/50\n",
      "460/460 [==============================] - 8s 18ms/step - loss: 0.0593 - accuracy: 0.9957 - val_loss: 0.4801 - val_accuracy: 0.8896\n",
      "Epoch 32/50\n",
      "460/460 [==============================] - 9s 20ms/step - loss: 0.0499 - accuracy: 1.0000 - val_loss: 0.5008 - val_accuracy: 0.8896\n",
      "Epoch 33/50\n",
      "460/460 [==============================] - 7s 16ms/step - loss: 0.0471 - accuracy: 1.0000 - val_loss: 0.5095 - val_accuracy: 0.8896\n",
      "Epoch 34/50\n",
      "460/460 [==============================] - 7s 16ms/step - loss: 0.0417 - accuracy: 1.0000 - val_loss: 0.4994 - val_accuracy: 0.8896\n",
      "Epoch 35/50\n",
      "460/460 [==============================] - 7s 15ms/step - loss: 0.0439 - accuracy: 0.9978 - val_loss: 0.5178 - val_accuracy: 0.8896\n",
      "Epoch 36/50\n",
      "460/460 [==============================] - 7s 15ms/step - loss: 0.0432 - accuracy: 1.0000 - val_loss: 0.5228 - val_accuracy: 0.8896\n",
      "Epoch 37/50\n",
      "460/460 [==============================] - 8s 17ms/step - loss: 0.0448 - accuracy: 1.0000 - val_loss: 0.4731 - val_accuracy: 0.8766\n",
      "Epoch 38/50\n",
      "460/460 [==============================] - 8s 16ms/step - loss: 0.0343 - accuracy: 1.0000 - val_loss: 0.4910 - val_accuracy: 0.8766\n",
      "Epoch 39/50\n",
      "460/460 [==============================] - 7s 16ms/step - loss: 0.0339 - accuracy: 1.0000 - val_loss: 0.5737 - val_accuracy: 0.8896\n",
      "Epoch 40/50\n",
      "460/460 [==============================] - 8s 16ms/step - loss: 0.0325 - accuracy: 1.0000 - val_loss: 0.6002 - val_accuracy: 0.8896\n",
      "Epoch 41/50\n",
      "460/460 [==============================] - 8s 18ms/step - loss: 0.0286 - accuracy: 1.0000 - val_loss: 0.5495 - val_accuracy: 0.8896\n",
      "Epoch 42/50\n",
      "460/460 [==============================] - 9s 19ms/step - loss: 0.0285 - accuracy: 1.0000 - val_loss: 0.5532 - val_accuracy: 0.8896\n",
      "Epoch 43/50\n",
      "460/460 [==============================] - 9s 20ms/step - loss: 0.0283 - accuracy: 0.9978 - val_loss: 0.5992 - val_accuracy: 0.8896\n",
      "Epoch 44/50\n",
      "460/460 [==============================] - 9s 18ms/step - loss: 0.0229 - accuracy: 1.0000 - val_loss: 0.5057 - val_accuracy: 0.8831\n",
      "Epoch 45/50\n",
      "460/460 [==============================] - 9s 19ms/step - loss: 0.0215 - accuracy: 1.0000 - val_loss: 0.5099 - val_accuracy: 0.8831\n",
      "Epoch 46/50\n",
      "460/460 [==============================] - 9s 19ms/step - loss: 0.0215 - accuracy: 1.0000 - val_loss: 0.5411 - val_accuracy: 0.8831\n",
      "Epoch 47/50\n",
      "460/460 [==============================] - 8s 17ms/step - loss: 0.0210 - accuracy: 1.0000 - val_loss: 0.5359 - val_accuracy: 0.8831\n",
      "Epoch 48/50\n",
      "460/460 [==============================] - 8s 18ms/step - loss: 0.0197 - accuracy: 1.0000 - val_loss: 0.4907 - val_accuracy: 0.8766\n",
      "Epoch 49/50\n",
      "460/460 [==============================] - 7s 15ms/step - loss: 0.0188 - accuracy: 1.0000 - val_loss: 0.5064 - val_accuracy: 0.8766\n",
      "Epoch 50/50\n",
      "460/460 [==============================] - 7s 15ms/step - loss: 0.0176 - accuracy: 1.0000 - val_loss: 0.5384 - val_accuracy: 0.8766\n"
     ]
    }
   ],
   "source": [
    "his=model.fit(X_train,y_train,validation_split=0.25,epochs=50,batch_size=32)"
   ]
  },
  {
   "cell_type": "code",
   "execution_count": 16,
   "metadata": {},
   "outputs": [
    {
     "name": "stdout",
     "output_type": "stream",
     "text": [
      "154/154 [==============================] - 1s 4ms/step\n",
      "test_acc: 0.8766233921051025\n"
     ]
    }
   ],
   "source": [
    "test_loss,test_acc=model.evaluate(X_test,y_test)\n",
    "print('test_acc:',test_acc)"
   ]
  },
  {
   "cell_type": "code",
   "execution_count": 17,
   "metadata": {},
   "outputs": [],
   "source": [
    "predict=model.predict(X_test)\n",
    "predict=np.argmax(predict,axis=1)"
   ]
  },
  {
   "cell_type": "code",
   "execution_count": 18,
   "metadata": {},
   "outputs": [
    {
     "data": {
      "text/plain": [
       "Counter({0: 9, 2: 136, 1: 9})"
      ]
     },
     "execution_count": 18,
     "metadata": {},
     "output_type": "execute_result"
    }
   ],
   "source": [
    "label=np.argmax(y_test,axis=1)\n",
    "from collections import Counter\n",
    "Counter(label)"
   ]
  },
  {
   "cell_type": "code",
   "execution_count": 19,
   "metadata": {},
   "outputs": [
    {
     "name": "stdout",
     "output_type": "stream",
     "text": [
      "              precision    recall  f1-score   support\n",
      "\n",
      "           0       1.00      0.22      0.36         9\n",
      "           1       0.00      0.00      0.00         9\n",
      "           2       0.90      0.98      0.94       136\n",
      "\n",
      "    accuracy                           0.88       154\n",
      "   macro avg       0.63      0.40      0.43       154\n",
      "weighted avg       0.85      0.88      0.85       154\n",
      "\n"
     ]
    }
   ],
   "source": [
    "from sklearn.metrics import classification_report\n",
    "print(classification_report(label,predict,target_names=None))"
   ]
  },
  {
   "cell_type": "code",
   "execution_count": null,
   "metadata": {},
   "outputs": [],
   "source": []
  }
 ],
 "metadata": {
  "kernelspec": {
   "display_name": "Python 3 (ipykernel)",
   "language": "python",
   "name": "python3"
  },
  "language_info": {
   "codemirror_mode": {
    "name": "ipython",
    "version": 3
   },
   "file_extension": ".py",
   "mimetype": "text/x-python",
   "name": "python",
   "nbconvert_exporter": "python",
   "pygments_lexer": "ipython3",
   "version": "3.9.7"
  }
 },
 "nbformat": 4,
 "nbformat_minor": 4
}
